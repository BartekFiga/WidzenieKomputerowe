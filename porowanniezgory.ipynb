{
 "cells": [
  {
   "cell_type": "code",
   "execution_count": 60,
   "metadata": {},
   "outputs": [],
   "source": [
    "import cv2\n",
    "import numpy as np\n",
    "import matplotlib.pyplot as plt\n",
    "import urllib.request\n",
    "import os\n",
    "import sklearn\n",
    "\n",
    "\n",
    "import os\n",
    "import PIL\n",
    "import tensorflow as tf\n",
    "import pandas as pd\n",
    "\n",
    "\n",
    "from tensorflow import keras\n",
    "from tensorflow.keras import layers\n",
    "from tensorflow.keras.models import Sequential\n",
    "\n",
    "from sklearn import preprocessing\n",
    "from keras.utils import to_categorical"
   ]
  },
  {
   "cell_type": "code",
   "execution_count": 61,
   "metadata": {},
   "outputs": [],
   "source": [
    "from pathlib import Path\n",
    "\n",
    "data_directory = Path('classzgory').resolve()\n",
    "\n",
    "SIZE_IMAGE = 120"
   ]
  },
  {
   "cell_type": "code",
   "execution_count": 62,
   "metadata": {},
   "outputs": [
    {
     "data": {
      "text/plain": [
       "((345, 120, 120, 3), (345, 1))"
      ]
     },
     "execution_count": 62,
     "metadata": {},
     "output_type": "execute_result"
    }
   ],
   "source": [
    "X, y = [], []\n",
    "for dir in data_directory.iterdir():\n",
    "    for file in dir.iterdir():\n",
    "        img = cv2.imread(str(file))\n",
    "        img = cv2.resize(img, (SIZE_IMAGE, SIZE_IMAGE))\n",
    "        X.append(img)\n",
    "        y.append(dir.name)\n",
    "\n",
    "X = np.array(X)\n",
    "y = np.array(y).reshape(-1, 1)\n",
    "X.shape, y.shape"
   ]
  },
  {
   "cell_type": "code",
   "execution_count": 63,
   "metadata": {},
   "outputs": [
    {
     "name": "stdout",
     "output_type": "stream",
     "text": [
      "(345, 2)\n"
     ]
    },
    {
     "name": "stderr",
     "output_type": "stream",
     "text": [
      "c:\\Users\\Przemek\\AppData\\Local\\Programs\\Python\\Python39\\lib\\site-packages\\sklearn\\preprocessing\\_label.py:116: DataConversionWarning: A column-vector y was passed when a 1d array was expected. Please change the shape of y to (n_samples, ), for example using ravel().\n",
      "  y = column_or_1d(y, warn=True)\n"
     ]
    }
   ],
   "source": [
    "labelencoder = preprocessing.LabelEncoder()\n",
    "if y.shape[1] == 1:\n",
    "    #y = labelencoder.fit(y) #dopasowywanie etykiet\n",
    "    #y = labelencoder.transform(y) #przekształcamy etykiety do znormalizowanego kodowania\n",
    "    y = labelencoder.fit_transform(y)\n",
    "    y = to_categorical(y, num_classes=2)\n",
    "print(y.shape)\n",
    "\n",
    "#zamieniamy y \n",
    "y = y.astype(int)"
   ]
  },
  {
   "cell_type": "code",
   "execution_count": 64,
   "metadata": {},
   "outputs": [],
   "source": [
    "from pathlib import Path\n",
    "\n",
    "data_directory1 = Path('class').resolve()\n",
    "\n",
    "SIZE_IMAGE = 120"
   ]
  },
  {
   "cell_type": "code",
   "execution_count": 65,
   "metadata": {},
   "outputs": [
    {
     "data": {
      "text/plain": [
       "((1150, 120, 120, 3), (1150, 1))"
      ]
     },
     "execution_count": 65,
     "metadata": {},
     "output_type": "execute_result"
    }
   ],
   "source": [
    "X1, y1 = [], []\n",
    "for dir in data_directory1.iterdir():\n",
    "    for file in dir.iterdir():\n",
    "        img1 = cv2.imread(str(file))\n",
    "        img1 = cv2.resize(img, (SIZE_IMAGE, SIZE_IMAGE))\n",
    "        X1.append(img1)\n",
    "        y1.append(dir.name)\n",
    "\n",
    "X1 = np.array(X1)\n",
    "y1 = np.array(y1).reshape(-1, 1)\n",
    "X1.shape, y1.shape"
   ]
  },
  {
   "cell_type": "code",
   "execution_count": 66,
   "metadata": {},
   "outputs": [
    {
     "name": "stdout",
     "output_type": "stream",
     "text": [
      "(1150, 2)\n"
     ]
    }
   ],
   "source": [
    "labelencoder = preprocessing.LabelEncoder()\n",
    "if y1.shape[1] == 1:\n",
    "    #y = labelencoder.fit(y) #dopasowywanie etykiet\n",
    "    #y = labelencoder.transform(y) #przekształcamy etykiety do znormalizowanego kodowania\n",
    "    y1 = labelencoder.fit_transform(y1)\n",
    "    y1 = to_categorical(y1, num_classes=2)\n",
    "print(y1.shape)\n",
    "\n",
    "#zamieniamy y \n",
    "y1 = y1.astype(int)"
   ]
  },
  {
   "cell_type": "code",
   "execution_count": 67,
   "metadata": {},
   "outputs": [],
   "source": [
    "X_train1 = X1\n",
    "X_test1 = X\n",
    "y_train1 = y1\n",
    "y_test1 = y"
   ]
  },
  {
   "cell_type": "code",
   "execution_count": 68,
   "metadata": {},
   "outputs": [
    {
     "data": {
      "text/plain": [
       "((1150, 120, 120, 3), (1150, 2), (345, 120, 120, 3), (345, 2))"
      ]
     },
     "execution_count": 68,
     "metadata": {},
     "output_type": "execute_result"
    }
   ],
   "source": [
    "X_train1.shape, y_train1.shape, X_test1.shape, y_test1.shape"
   ]
  },
  {
   "cell_type": "code",
   "execution_count": 69,
   "metadata": {},
   "outputs": [],
   "source": [
    "from tensorflow.keras.models import Sequential\n",
    "from tensorflow.keras.layers import Dense\n",
    "from tensorflow.keras.layers import Conv2D\n",
    "from tensorflow.keras.layers import Flatten, MaxPool2D\n",
    "import pydot\n",
    "import graphviz"
   ]
  },
  {
   "cell_type": "code",
   "execution_count": 70,
   "metadata": {},
   "outputs": [],
   "source": [
    "nnetwork = Sequential([\n",
    "    #Conv2D(filters=16,kernel_size=(3,3), activation='relu',padding='same', input_shape=(120,120,3)),\n",
    "    #MaxPool2D(pool_size=(2,2)),\n",
    "    #Conv2D(filters=32, kernel_size=(3,3),activation='relu',padding='same'),\n",
    "    #MaxPool2D(pool_size=(2,2)),\n",
    "    Flatten(input_shape=(120,120,3)),\n",
    "    #Flatten(),\n",
    "    Dense(units=128,activation='relu'),\n",
    "    Dense(units=2,activation='softmax')\n",
    "])"
   ]
  },
  {
   "cell_type": "code",
   "execution_count": 71,
   "metadata": {},
   "outputs": [],
   "source": [
    "nnetwork.compile(\n",
    "    optimizer = 'sgd',\n",
    "    loss = 'categorical_crossentropy',\n",
    "    #loss = 'mean_squared_error'\n",
    "    metrics = ['accuracy']\n",
    ")"
   ]
  },
  {
   "cell_type": "code",
   "execution_count": 72,
   "metadata": {},
   "outputs": [
    {
     "name": "stdout",
     "output_type": "stream",
     "text": [
      "Epoch 1/15\n",
      "36/36 [==============================] - 2s 44ms/step - loss: 462030.4062 - accuracy: 0.4913 - val_loss: 10.2301 - val_accuracy: 0.4609\n",
      "Epoch 2/15\n",
      "36/36 [==============================] - 1s 40ms/step - loss: 0.6931 - accuracy: 0.4983 - val_loss: 10.2292 - val_accuracy: 0.4609\n",
      "Epoch 3/15\n",
      "36/36 [==============================] - 1s 34ms/step - loss: 0.6932 - accuracy: 0.5070 - val_loss: 10.2286 - val_accuracy: 0.4609\n",
      "Epoch 4/15\n",
      "36/36 [==============================] - 1s 34ms/step - loss: 0.6932 - accuracy: 0.5070 - val_loss: 10.2279 - val_accuracy: 0.4609\n",
      "Epoch 5/15\n",
      "36/36 [==============================] - 1s 33ms/step - loss: 0.6931 - accuracy: 0.5070 - val_loss: 10.2277 - val_accuracy: 0.4609\n",
      "Epoch 6/15\n",
      "36/36 [==============================] - 1s 31ms/step - loss: 0.6931 - accuracy: 0.5070 - val_loss: 10.2272 - val_accuracy: 0.4609\n",
      "Epoch 7/15\n",
      "36/36 [==============================] - 1s 35ms/step - loss: 0.6931 - accuracy: 0.5070 - val_loss: 10.2271 - val_accuracy: 0.4609\n",
      "Epoch 8/15\n",
      "36/36 [==============================] - 1s 37ms/step - loss: 0.6932 - accuracy: 0.5070 - val_loss: 10.2266 - val_accuracy: 0.4609\n",
      "Epoch 9/15\n",
      "36/36 [==============================] - 1s 34ms/step - loss: 0.6931 - accuracy: 0.5070 - val_loss: 10.2265 - val_accuracy: 0.4609\n",
      "Epoch 10/15\n",
      "36/36 [==============================] - 1s 35ms/step - loss: 0.6931 - accuracy: 0.5070 - val_loss: 10.2261 - val_accuracy: 0.4609\n",
      "Epoch 11/15\n",
      "36/36 [==============================] - 1s 36ms/step - loss: 0.6931 - accuracy: 0.5070 - val_loss: 10.2259 - val_accuracy: 0.4609\n",
      "Epoch 12/15\n",
      "36/36 [==============================] - 1s 35ms/step - loss: 0.6931 - accuracy: 0.5070 - val_loss: 10.2258 - val_accuracy: 0.4609\n",
      "Epoch 13/15\n",
      "36/36 [==============================] - 1s 36ms/step - loss: 0.6931 - accuracy: 0.5070 - val_loss: 10.2256 - val_accuracy: 0.4609\n",
      "Epoch 14/15\n",
      "36/36 [==============================] - 1s 36ms/step - loss: 0.6931 - accuracy: 0.5070 - val_loss: 10.2258 - val_accuracy: 0.4609\n",
      "Epoch 15/15\n",
      "36/36 [==============================] - 1s 36ms/step - loss: 0.6931 - accuracy: 0.5070 - val_loss: 10.2257 - val_accuracy: 0.4609\n"
     ]
    }
   ],
   "source": [
    "history = nnetwork.fit(X_train1, y_train1,\n",
    "            epochs = 15,\n",
    "            validation_data=(X_test1,y_test1),\n",
    "            #callbacks=[keras.callbacks.EarlyStopping(monitor='val_loss', patience=4)]\n",
    ")"
   ]
  },
  {
   "cell_type": "code",
   "execution_count": 73,
   "metadata": {},
   "outputs": [],
   "source": [
    "label_values = ['hulajnoga', 'rower']"
   ]
  },
  {
   "cell_type": "code",
   "execution_count": 74,
   "metadata": {},
   "outputs": [
    {
     "name": "stdout",
     "output_type": "stream",
     "text": [
      "11/11 [==============================] - 0s 8ms/step\n"
     ]
    }
   ],
   "source": [
    "y_pred = np.argmax(nnetwork.predict(X_test1),axis=1)"
   ]
  },
  {
   "cell_type": "code",
   "execution_count": 75,
   "metadata": {},
   "outputs": [],
   "source": [
    "from sklearn.metrics import confusion_matrix, ConfusionMatrixDisplay"
   ]
  },
  {
   "cell_type": "code",
   "execution_count": 76,
   "metadata": {},
   "outputs": [
    {
     "data": {
      "text/plain": [
       "<sklearn.metrics._plot.confusion_matrix.ConfusionMatrixDisplay at 0x1b9b3ba9d00>"
      ]
     },
     "execution_count": 76,
     "metadata": {},
     "output_type": "execute_result"
    },
    {
     "data": {
      "image/png": "[encoded data removed]",
      "text/plain": [
       "<Figure size 640x480 with 2 Axes>"
      ]
     },
     "metadata": {},
     "output_type": "display_data"
    }
   ],
   "source": [
    "new_test1 = [label_values[i] for i in y_pred]\n",
    "new_test2 = [label_values[i] for i in np.argmax(y_test1, axis = 1)]\n",
    "\n",
    "cm = confusion_matrix(new_test2, new_test1)\n",
    "disp = ConfusionMatrixDisplay(confusion_matrix=cm,\n",
    "                              display_labels=label_values\n",
    "                              \n",
    "                              \n",
    "                              )\n",
    "disp.plot()"
   ]
  }
 ],
 "metadata": {
  "kernelspec": {
   "display_name": "Python 3",
   "language": "python",
   "name": "python3"
  },
  "language_info": {
   "codemirror_mode": {
    "name": "ipython",
    "version": 3
   },
   "file_extension": ".py",
   "mimetype": "text/x-python",
   "name": "python",
   "nbconvert_exporter": "python",
   "pygments_lexer": "ipython3",
   "version": "3.9.0"
  },
  "orig_nbformat": 4,
  "vscode": {
   "interpreter": {
    "hash": "8200efed62dd75ffce6290d6a9cbdb91684bddbbc15f3ebc595595a3b9cb29fb"
   }
  }
 },
 "nbformat": 4,
 "nbformat_minor": 2
}
